#!/usr/bin/env python
# coding: utf-8

# In[91]:


import pandas as pd

town_hubs = [
    'Plattsburgh, NY',
    'Lake Placid, NY',
    'Elizabethtown, NY',
    'Lake George, NY',
    'Albany, NY',
    'Poughkeepsie, NY',
    'New Paltz, NY',
    'Woodbury, NY',
    'Paterson, NJ',
    'Manhattan, NY',
    'Brooklyn, NY'
    ]


# In[92]:


FORCE_REMINE = True


# In[93]:


dist = 5
import os

import urllib.request
import urllib.parse


for hubname in town_hubs:
    hubname = hubname.replace(' ','+')
    filename = hubname + '.csv'
    if FORCE_REMINE or not os.path.exists(filename):     
        print("ABOUT TO MINE: " + hubname)
        url = 'http://chirp.danplanet.com/query/rb/1.0/app_direct?loc={hubname}&dist={dist}'.format(**locals())
        f = urllib.request.urlopen(url)
        csv = (f.read().decode('utf-8'))
        with open(filename, 'w') as FOUT:
            FOUT.write(csv)
    else:
        print("No need to mine: " + hubname)


# In[94]:


ALL_PANDFS = []


# In[95]:


for hubname in town_hubs:
    hubname = hubname.replace(' ','+')
    filename = hubname + '.csv'
    pandf = pd.read_csv('file:'+filename, index_col=False)
    ALL_PANDFS.append(pandf)


# In[96]:


pandf_total = pd.concat(ALL_PANDFS)


# In[97]:


pandf_total = pandf_total.drop('Location', axis=1)


# In[98]:


pandf_total = pandf_total.drop_duplicates()


# In[99]:


pandf_total


# In[100]:


pandf_total = pandf_total.reset_index(drop=True).reset_index().rename(columns={'index':'Location'})


# In[101]:


pandf_total.to_csv('ALL_REPEATERS_{dist}radius.csv'.format(**locals()), index=False)


# In[ ]:





# In[ ]:




pandf_list = []


sample_csv = '''Location,Name,Frequency,Duplex,Offset,Tone,rToneFreq,cToneFreq,DtcsCode,DtcsPolarity,Mode,TStep,Comment
1,WA2LRE,53.590000,-,1.0,Tone,123.0,88.5,023,NN,FM,5,"Plattsburgh",
2,KD2MAJ,145.070000,+,147.445,,88.5,88.5,23,NN,DIG,5,"Plattsburgh, Rand Hill",
3,N1STA,145.230000,-,0.60000,Tone,100.0,100.0,023,NN,FM,5,"Saint Albans, French Hill",
4,WA2LRE,145.490000,-,0.60000,Tone,123.0,123.0,023,NN,FM,5,"Peru, Terry Mountain",
5,KD2RJP,145.610000,,0.0,,88.5,88.5,023,NN,FM,5,"Pt Au Roche (Plattsburgh) NY",
6,W1KOO,146.610000,-,0.60000,Tone,100.0,88.5,023,NN,FM,5,"Burlington",
7,KB1KJS,146.790000,-,0.60000,Tone,100.0,88.5,023,NN,FM,5,"Essex Junction",
8,W1CTE,146.850000,-,0.60000,,88.5,88.5,023,NN,FM,5,"Essex Junction, Fleming Elementary",
9,W2UXC,147.150000,+,0.60000,Tone,123.0,88.5,023,NN,FM,5,"Plattsburgh",
10,NV2M,224.020000,-,1.60000,Tone,123.0,88.5,023,NN,FM,5,"Peru",
11,NV2M,442.287500,+,5.00000,,88.5,88.5,23,NN,DIG,5,"Peru, Terry Mountain",
12,W1KOO,443.150000,+,5.00000,,88.5,88.5,023,NN,FM,5,"Burlington",
13,N1STA,443.400000,+,5.00000,Tone,162.2,88.5,023,NN,FM,5,"Saint Albans",
14,NV2M,447.575000,-,5.00000,Tone,123.0,123.0,023,NN,FM,5,"Plattsburgh",
15,WA2LRE,448.075000,-,5.00000,Tone,123.0,88.5,023,NN,FM,5,"Plattsburgh",
16,N2MMV,449.825000,-,5.00000,Tone,110.9,88.5,023,NN,FM,5,"Plattsburgh, Rand Hill",
'''




pandf = pd.read_csv('file:sample.csv')

pandf.drop('Location', axis=1, inplace=True)







assert False, 'NEED TO EXIT'


dist = 60

import urllib.request
import urllib.parse


hubname = town_hubs[1].replace(' ','+')

url = 'http://chirp.danplanet.com/query/rb/1.0/app_direct?loc={hubname}&dist={dist}'.format(**locals())

print(url)


f = urllib.request.urlopen(url)
csv = (f.read().decode('utf-8'))
